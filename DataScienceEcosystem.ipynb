{
 "cells": [
  {
   "cell_type": "markdown",
   "id": "9c9d6662-e31d-4e2e-b873-342c6fc8d28b",
   "metadata": {},
   "source": [
    "# Data Science Tools and Ecosystem"
   ]
  },
  {
   "cell_type": "markdown",
   "id": "435b589a-3748-4953-9de5-77150b1018b9",
   "metadata": {
    "tags": []
   },
   "source": [
    "  In this notebook, Data Science Tools and Ecosystem are summarized"
   ]
  },
  {
   "cell_type": "markdown",
   "id": "3dfb9606-ef49-4226-a639-3883a0e569ed",
   "metadata": {},
   "source": [
    "**Objectives:**\n",
    "- List Popular languages used by Data scientists\n",
    "- List common Data Science Libraries \n",
    "- Run Basic arithmetic in Python\n",
    "- Tables in Markdown in Jupyter\n",
    "- List Data Science Tools\n"
   ]
  },
  {
   "cell_type": "code",
   "execution_count": null,
   "id": "a0a5573c-d44f-4fe7-8b13-c7dfc413e19d",
   "metadata": {},
   "outputs": [],
   "source": []
  },
  {
   "cell_type": "markdown",
   "id": "282402e6-6169-4375-8111-6f5c418ad319",
   "metadata": {},
   "source": [
    "Some of the popular languages that Data Scientists use are:"
   ]
  },
  {
   "cell_type": "markdown",
   "id": "8696a846-fc5b-40c5-bf90-ee49c2894784",
   "metadata": {},
   "source": [
    "1. Python\n",
    "2. JavaScript\n",
    "3. R"
   ]
  },
  {
   "cell_type": "markdown",
   "id": "c435d4ac-9cb2-4387-9674-bd32b55ea310",
   "metadata": {},
   "source": [
    "Some of the commonly used libraries used by Data Scientists include:"
   ]
  },
  {
   "cell_type": "markdown",
   "id": "75b33ed0-7c6a-4483-b1f3-f99c44783f10",
   "metadata": {},
   "source": [
    "1. Pandas\n",
    "2. ggplot2\n",
    "3. NumPy\n",
    "4. Plotly\n",
    "5. Matplotlib"
   ]
  },
  {
   "cell_type": "markdown",
   "id": "d138fc61-f96c-4e37-b732-31040564cd38",
   "metadata": {},
   "source": [
    "| DATA SCIENCE TOOLS |\n",
    "|------------------- |\n",
    "| Jupyter Notebook |\n",
    "| R studio |\n",
    "| Vs Code |"
   ]
  },
  {
   "cell_type": "markdown",
   "id": "7a1aee7f-e06f-4a50-a877-78ca906a1e54",
   "metadata": {},
   "source": [
    "### Below are a few examples of evaluating arithmetic expressions in Python"
   ]
  },
  {
   "cell_type": "markdown",
   "id": "7eb26470-6273-4012-b3b7-cbc457818545",
   "metadata": {},
   "source": [
    "This a simple arithmetic expression to mutiply"
   ]
  },
  {
   "cell_type": "code",
   "execution_count": 1,
   "id": "27f45250-498d-4e9b-8f84-f73ea2715c5d",
   "metadata": {
    "tags": []
   },
   "outputs": [
    {
     "data": {
      "text/plain": [
       "17"
      ]
     },
     "execution_count": 1,
     "metadata": {},
     "output_type": "execute_result"
    }
   ],
   "source": [
    "(3*4)+5"
   ]
  },
  {
   "cell_type": "markdown",
   "id": "99034ab7-ffec-43d5-8a42-e9731ef78a19",
   "metadata": {},
   "source": [
    "This will convert 200 minutes to hours by diving by 60"
   ]
  },
  {
   "cell_type": "code",
   "execution_count": 2,
   "id": "e2af3327-9971-452c-b434-ec7def81ff6a",
   "metadata": {
    "tags": []
   },
   "outputs": [
    {
     "data": {
      "text/plain": [
       "3.3333333333333335"
      ]
     },
     "execution_count": 2,
     "metadata": {},
     "output_type": "execute_result"
    }
   ],
   "source": [
    "200/60"
   ]
  },
  {
   "cell_type": "markdown",
   "id": "1b92336a-f29e-4e79-8124-d89ae3b032d1",
   "metadata": {},
   "source": [
    "## AUTHOR\n",
    "   Prince Uzor Peter"
   ]
  },
  {
   "cell_type": "code",
   "execution_count": null,
   "id": "8be95eb9-052e-4007-a3e1-83c3b130ae11",
   "metadata": {},
   "outputs": [],
   "source": []
  }
 ],
 "metadata": {
  "kernelspec": {
   "display_name": "Python",
   "language": "python",
   "name": "conda-env-python-py"
  },
  "language_info": {
   "codemirror_mode": {
    "name": "ipython",
    "version": 3
   },
   "file_extension": ".py",
   "mimetype": "text/x-python",
   "name": "python",
   "nbconvert_exporter": "python",
   "pygments_lexer": "ipython3",
   "version": "3.7.12"
  }
 },
 "nbformat": 4,
 "nbformat_minor": 5
}
